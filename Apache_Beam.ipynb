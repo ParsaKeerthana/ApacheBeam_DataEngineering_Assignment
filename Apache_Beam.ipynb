{
  "nbformat": 4,
  "nbformat_minor": 0,
  "metadata": {
    "colab": {
      "provenance": [],
      "authorship_tag": "ABX9TyM922dtC1noVWdB2OY8/bu2",
      "include_colab_link": true
    },
    "kernelspec": {
      "name": "python3",
      "display_name": "Python 3"
    },
    "language_info": {
      "name": "python"
    }
  },
  "cells": [
    {
      "cell_type": "markdown",
      "metadata": {
        "id": "view-in-github",
        "colab_type": "text"
      },
      "source": [
        "<a href=\"https://colab.research.google.com/github/ParsaKeerthana/ApacheBeam_DataEngineering_Assignment/blob/main/Apache_Beam.ipynb\" target=\"_parent\"><img src=\"https://colab.research.google.com/assets/colab-badge.svg\" alt=\"Open In Colab\"/></a>"
      ]
    },
    {
      "cell_type": "code",
      "execution_count": null,
      "metadata": {
        "colab": {
          "base_uri": "https://localhost:8080/"
        },
        "id": "c4yJOA-eJH9f",
        "outputId": "7a9995b8-1448-4d19-ac61-e06fc30b99ec"
      },
      "outputs": [
        {
          "output_type": "stream",
          "name": "stdout",
          "text": [
            ">> pip install --quiet apache-beam\n",
            "\n"
          ]
        }
      ],
      "source": [
        "# Run and print a shell command.\n",
        "def run(cmd):\n",
        "  print('>> {}'.format(cmd))\n",
        "  !{cmd}\n",
        "  print('')\n",
        "\n",
        "# Install apache-beam.\n",
        "run('pip install --quiet apache-beam')\n",
        "\n",
        "# Copy the input file into the local file system.\n",
        "#run('mkdir -p data')\n",
        "#run('gsutil cp gs://dataflow-samples/shakespeare/kinglear.txt data/')"
      ]
    },
    {
      "cell_type": "markdown",
      "source": [
        "## ParDo"
      ],
      "metadata": {
        "id": "Fpik7_dEM2KX"
      }
    },
    {
      "cell_type": "code",
      "source": [
        "import apache_beam as beam\n",
        "\n",
        "class SplitWaterRow(beam.DoFn):\n",
        "    def process(self, element):\n",
        "        return [element.split(',')]\n",
        "\n",
        "class FilterPotableWater(beam.DoFn):\n",
        "    def process(self, element):\n",
        "        if element[-1] == '1':\n",
        "            return [element]\n",
        "\n",
        "class PairWaterRows(beam.DoFn):\n",
        "    def process(self, element):\n",
        "        return [(\"Potable\", 1)]\n",
        "\n",
        "class Counting(beam.DoFn):\n",
        "    def process(self, element):\n",
        "        (key, values) = element\n",
        "        return [(key, sum(values))]\n",
        "\n",
        "p2 = beam.Pipeline()\n",
        "\n",
        "potable_water_count = (\n",
        "   p2\n",
        "    | 'ReadFromText' >> beam.io.ReadFromText('water_potability.csv')\n",
        "    | 'SkipHeader' >> beam.Filter(lambda line: not line.startswith(\"ph,\"))\n",
        "    | 'SplitWaterRow' >> beam.ParDo(SplitWaterRow())\n",
        "    | 'FilterPotableWater' >> beam.ParDo(FilterPotableWater())\n",
        "    | 'PairWaterRows' >> beam.ParDo(PairWaterRows())\n",
        "    | 'GroupByKey' >> beam.GroupByKey()\n",
        "    | 'SumUsingParDo' >> beam.ParDo(Counting())\n",
        "    | 'WriteToText' >> beam.io.WriteToText('parddo_output.txt')\n",
        ")\n",
        "\n",
        "p2.run()\n"
      ],
      "metadata": {
        "colab": {
          "base_uri": "https://localhost:8080/"
        },
        "id": "PLqvbIg-Ky9u",
        "outputId": "65dff803-aa73-4051-f020-86647ac0c2f5"
      },
      "execution_count": null,
      "outputs": [
        {
          "output_type": "execute_result",
          "data": {
            "text/plain": [
              "<apache_beam.runners.portability.fn_api_runner.fn_runner.RunnerResult at 0x7deeb8454220>"
            ]
          },
          "metadata": {},
          "execution_count": 10
        }
      ]
    },
    {
      "cell_type": "code",
      "source": [
        "# Reading parddo_output.txt\n",
        "with open('/content/parddo_output.txt-00000-of-00001', 'r') as f:\n",
        "    parddo_results = f.readlines()\n",
        "\n",
        "parddo_results"
      ],
      "metadata": {
        "colab": {
          "base_uri": "https://localhost:8080/"
        },
        "id": "YTUNoN95NUMh",
        "outputId": "cc3bebfa-db54-462d-eeab-024f4648f945"
      },
      "execution_count": null,
      "outputs": [
        {
          "output_type": "execute_result",
          "data": {
            "text/plain": [
              "[\"('Potable', 1278)\\n\"]"
            ]
          },
          "metadata": {},
          "execution_count": 13
        }
      ]
    },
    {
      "cell_type": "markdown",
      "source": [
        "## Composite Transform"
      ],
      "metadata": {
        "id": "Nc3mCuFzM5Ws"
      }
    },
    {
      "cell_type": "code",
      "source": [
        "class CustomTransform(beam.PTransform):\n",
        "    def expand(self, input_coll):\n",
        "        return (\n",
        "            input_coll\n",
        "            | 'Group and sum' >> beam.CombinePerKey(sum)\n",
        "            | 'count filter' >> beam.Filter(filter_on_count)\n",
        "            | 'Format output' >> beam.Map(format_output)\n",
        "        )\n",
        "\n",
        "def SplitRow(element):\n",
        "    return element.split(',')\n",
        "\n",
        "def filter_on_count(element):\n",
        "    name, count = element\n",
        "    if count > 1:\n",
        "        return element\n",
        "\n",
        "def format_output(element):\n",
        "    name, count = element\n",
        "    return ', '.join((name, str(count), 'Potable water count'))\n",
        "\n",
        "p = beam.Pipeline()\n",
        "\n",
        "input_collection = (\n",
        "    p\n",
        "    | \"Read from text file\" >> beam.io.ReadFromText('water_potability.csv')\n",
        "    | \"Split rows\" >> beam.Map(SplitRow)\n",
        ")\n",
        "\n",
        "potable_count = (\n",
        "    input_collection\n",
        "    | 'Filter potable water' >> beam.Filter(lambda record: record[-1] == '1')\n",
        "    | 'Pair with 1' >> beam.Map(lambda record: (\"Potable\", 1))\n",
        "    | 'Apply CustomTransform' >> CustomTransform()\n",
        "    | 'Write results' >> beam.io.WriteToText('potable_output.txt')\n",
        ")\n",
        "\n",
        "p.run()\n"
      ],
      "metadata": {
        "colab": {
          "base_uri": "https://localhost:8080/"
        },
        "id": "wCyas6PrMw_v",
        "outputId": "5515db58-9816-423a-dc58-ab31a49c51ca"
      },
      "execution_count": null,
      "outputs": [
        {
          "output_type": "execute_result",
          "data": {
            "text/plain": [
              "<apache_beam.runners.portability.fn_api_runner.fn_runner.RunnerResult at 0x7deeb818a470>"
            ]
          },
          "metadata": {},
          "execution_count": 11
        }
      ]
    },
    {
      "cell_type": "code",
      "source": [
        "# Reading parddo_output.txt\n",
        "with open('/content/potable_output.txt-00000-of-00001', 'r') as f:\n",
        "    potable_output = f.readlines()\n",
        "\n",
        "potable_output\n"
      ],
      "metadata": {
        "colab": {
          "base_uri": "https://localhost:8080/"
        },
        "id": "MrX_MoO1M-fg",
        "outputId": "6de2bfc8-adf5-4544-faab-bd878b54f839"
      },
      "execution_count": null,
      "outputs": [
        {
          "output_type": "execute_result",
          "data": {
            "text/plain": [
              "['Potable, 1278, Potable water count\\n']"
            ]
          },
          "metadata": {},
          "execution_count": 14
        }
      ]
    },
    {
      "cell_type": "markdown",
      "source": [
        "## Setting Up Pipeline, Adding Windowing and Triggers\n"
      ],
      "metadata": {
        "id": "bcn-PDqIPlza"
      }
    },
    {
      "cell_type": "code",
      "source": [
        "import apache_beam as beam\n",
        "from datetime import datetime\n",
        "import pytz\n",
        "\n",
        "# Function to add a simulated timestamp to each row, assuming each row represents a sample taken every 10 seconds\n",
        "def add_timestamp(element):\n",
        "    # Extract the current processing time, convert it to seconds since the Unix epoch\n",
        "    epoch_timestamp = datetime.utcnow().replace(tzinfo=pytz.utc).timestamp()\n",
        "\n",
        "    # Convert the epoch timestamp to a Beam Timestamp\n",
        "    timestamp = beam.window.Timestamp(seconds=epoch_timestamp)\n",
        "\n",
        "    return beam.window.TimestampedValue(element, timestamp)\n",
        "\n",
        "\n",
        "# Setting up the pipeline\n",
        "p3 = beam.Pipeline()\n",
        "\n",
        "# 1. Pipeline I/O: Reading from the water_potability.csv file\n",
        "data = p3 | 'ReadFromText' >> beam.io.ReadFromText('/content/water_potability.csv')\n",
        "\n",
        "# Skipping the header\n",
        "filtered_data = data | 'FilterOutHeader' >> beam.Filter(lambda line: not line.startswith(\"ph,\"))\n",
        "\n",
        "# Adding a simulated timestamp to each row\n",
        "timestamped_data = filtered_data | 'AddTimestamp' >> beam.Map(add_timestamp)\n",
        "\n",
        "# 2. Windowing: Applying fixed windows of 5 minutes (300 seconds)\n",
        "windowed_data = timestamped_data | 'WindowInto' >> beam.WindowInto(beam.window.FixedWindows(300))\n",
        "\n",
        "# 3. Triggers: We're setting up a trigger to fire once a window has accumulated 30 samples\n",
        "triggered_data = (\n",
        "    windowed_data\n",
        "    | 'WindowWithTrigger' >> beam.WindowInto(\n",
        "        beam.window.FixedWindows(300),\n",
        "        trigger=beam.transforms.trigger.AfterCount(30),\n",
        "        accumulation_mode=beam.transforms.trigger.AccumulationMode.DISCARDING)\n",
        ")\n",
        "\n",
        "# Writing the windowed and triggered data to an output file\n",
        "triggered_data | 'WriteToText' >> beam.io.WriteToText('windowed_output.txt')\n",
        "\n",
        "# Running the pipeline\n",
        "p3.run()\n",
        "\n",
        "# Reading the output to display the result\n",
        "with open('/content/windowed_output.txt-00000-of-00001', 'r') as f:\n",
        "    windowed_results = f.readlines()\n",
        "\n",
        "windowed_results[:10]  # Displaying the first 10 lines of the output for brevity\n"
      ],
      "metadata": {
        "colab": {
          "base_uri": "https://localhost:8080/"
        },
        "id": "f6-jaUfcONJI",
        "outputId": "7965a16e-3f80-42e0-a807-9ac5b2d820ee"
      },
      "execution_count": null,
      "outputs": [
        {
          "output_type": "execute_result",
          "data": {
            "text/plain": [
              "[',204.8904554713363,20791.318980747026,7.300211873184757,368.51644134980336,564.3086541722439,10.3797830780847,86.9909704615088,2.9631353806316407,0\\n',\n",
              " '3.71608007538699,129.42292051494425,18630.057857970347,6.635245883862,,592.8853591348523,15.180013116357259,56.32907628451764,4.500656274942408,0\\n',\n",
              " '8.099124189298397,224.23625939355776,19909.541732292393,9.275883602694089,,418.6062130644815,16.868636929550973,66.42009251176368,3.0559337496641685,0\\n',\n",
              " '8.316765884214679,214.37339408562252,22018.417440775294,8.05933237743854,356.88613564305666,363.2665161642437,18.436524495493302,100.34167436508008,4.628770536837084,0\\n',\n",
              " '9.092223456290965,181.10150923612525,17978.98633892625,6.546599974207941,310.13573752420444,398.41081338184466,11.558279443446395,31.997992727424737,4.075075425430034,0\\n',\n",
              " '5.584086638456089,188.3133237696164,28748.68773904612,7.54486878877965,326.6783629116736,280.4679159334877,8.399734640152758,54.917861841994466,2.5597082275565217,0\\n',\n",
              " '10.223862164528773,248.07173527013992,28749.716543528233,7.5134084658313025,393.66339551509645,283.6516335078445,13.789695317519886,84.60355617402357,2.672988736934779,0\\n',\n",
              " '8.635848718500734,203.36152258457054,13672.091763901635,4.563008685599703,303.3097711592812,474.60764494244853,12.36381669870525,62.798308962925155,4.401424715445482,0\\n',\n",
              " ',118.98857909025189,14285.583854224515,7.804173553073094,268.646940746221,389.3755658712614,12.70604896865791,53.928845767512236,3.5950171809576155,0\\n',\n",
              " '11.180284470721592,227.23146923797458,25484.50849098786,9.077200016914393,404.04163468408996,563.8854814810949,17.92780641128502,71.97660103221915,4.370561936655497,0\\n']"
            ]
          },
          "metadata": {},
          "execution_count": 20
        }
      ]
    },
    {
      "cell_type": "code",
      "source": [],
      "metadata": {
        "id": "n4nATEXvOwYB"
      },
      "execution_count": null,
      "outputs": []
    }
  ]
}